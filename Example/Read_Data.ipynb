{
 "cells": [
  {
   "cell_type": "markdown",
   "metadata": {},
   "source": [
    "<h1 id=\"tocheading\">Table of Contents</h1>\n",
    "<div id=\"toc\"></div>"
   ]
  },
  {
   "cell_type": "markdown",
   "metadata": {},
   "source": [
    "# Imports\n",
    "Modules that help you to donwload stock"
   ]
  },
  {
   "cell_type": "code",
   "execution_count": 39,
   "metadata": {},
   "outputs": [],
   "source": [
    "from tehran_stocks import Stocks, db"
   ]
  },
  {
   "cell_type": "code",
   "execution_count": 12,
   "metadata": {},
   "outputs": [
    {
     "data": {
      "application/javascript": [
       "//for table of content\n",
       "$.getScript('https://kmahelona.github.io/ipython_notebook_goodies/ipython_notebook_toc.js')\n"
      ],
      "text/plain": [
       "<IPython.core.display.Javascript object>"
      ]
     },
     "metadata": {},
     "output_type": "display_data"
    }
   ],
   "source": [
    "%%javascript\n",
    "//for table of content\n",
    "$.getScript('https://kmahelona.github.io/ipython_notebook_goodies/ipython_notebook_toc.js')"
   ]
  },
  {
   "cell_type": "markdown",
   "metadata": {},
   "source": [
    "## Find a specefic stock"
   ]
  },
  {
   "cell_type": "code",
   "execution_count": 13,
   "metadata": {},
   "outputs": [
    {
     "data": {
      "text/plain": [
       "True"
      ]
     },
     "execution_count": 13,
     "metadata": {},
     "output_type": "execute_result"
    }
   ],
   "source": [
    "stock_by_symbol = Stocks.query.filter_by(name='كگل').first() #find by symbol(نماد)\n",
    "stock_by_title = Stocks.query.filter(Stocks.title.like('%گل گهر%')).first() # Search by title\n",
    "stock_by_symbol == stock_by_title\n"
   ]
  },
  {
   "cell_type": "markdown",
   "metadata": {},
   "source": [
    "# List stocks in a group and call them"
   ]
  },
  {
   "cell_type": "code",
   "execution_count": 14,
   "metadata": {},
   "outputs": [],
   "source": [
    "stock_list_felez = Stocks.query.filter_by(group_code =34).all() # find all Stocks in Khodro\n",
    "stock_list_felez_and_khodro = Stocks.query.filter(Stocks.group_code.in_([13,34])).all() # all stocks in khodro and felezat"
   ]
  },
  {
   "cell_type": "markdown",
   "metadata": {},
   "source": [
    "# Advance query "
   ]
  },
  {
   "cell_type": "code",
   "execution_count": 23,
   "metadata": {},
   "outputs": [
    {
     "data": {
      "text/plain": [
       "[(33, 'ابزارپزشکي، اپتيکي و اندازه\\u200cگيري'),\n",
       " (10, 'استخراج زغال سنگ'),\n",
       " (14, 'استخراج ساير معادن'),\n",
       " (11, 'استخراج نفت گاز و خدمات جنبي جز اکتشاف')]"
      ]
     },
     "execution_count": 23,
     "metadata": {},
     "output_type": "execute_result"
    }
   ],
   "source": [
    "\n",
    "db.session.query(Stocks.group_code, Stocks.group_name).group_by(Stocks.group_code).all()\n",
    "\n",
    "\n",
    "db.session.execute('select group_code , group_name from stocks group by group_name limit 4').fetchall()"
   ]
  },
  {
   "cell_type": "code",
   "execution_count": 32,
   "metadata": {},
   "outputs": [],
   "source": [
    "# You can check existing tables and thier columns"
   ]
  },
  {
   "cell_type": "code",
   "execution_count": 36,
   "metadata": {},
   "outputs": [
    {
     "name": "stdout",
     "output_type": "stream",
     "text": [
      "tables: [('stock_price',), ('stocks',)]\n",
      "stocks colums: [(0, 'id', 'INTEGER', 1, None, 1), (1, 'name', 'VARCHAR', 0, None, 0), (2, 'title', 'VARCHAR', 0, None, 0), (3, 'group_name', 'VARCHAR', 0, None, 0), (4, 'group_code', 'INTEGER', 0, None, 0), (5, 'instId', 'VARCHAR', 0, None, 0), (6, 'insCode', 'VARCHAR', 0, None, 0), (7, 'code', 'VARCHAR', 0, None, 0), (8, 'sectorPe', 'FLOAT', 0, None, 0), (9, 'shareCount', 'FLOAT', 0, None, 0), (10, 'estimatedEps', 'FLOAT', 0, None, 0), (11, 'baseVol', 'FLOAT', 0, None, 0)]\n"
     ]
    }
   ],
   "source": [
    "\n",
    "\n",
    "q = \"SELECT name FROM sqlite_master WHERE type='table'\"\n",
    "print('tables:',  db.session.execute(q).fetchall())\n",
    "print('stocks colums:', db.session.execute('PRAGMA table_info([stocks]);').fetchall())\n",
    "\n"
   ]
  },
  {
   "cell_type": "markdown",
   "metadata": {},
   "source": [
    "# Read Data"
   ]
  },
  {
   "cell_type": "code",
   "execution_count": 38,
   "metadata": {},
   "outputs": [
    {
     "data": {
      "text/html": [
       "<div>\n",
       "<style scoped>\n",
       "    .dataframe tbody tr th:only-of-type {\n",
       "        vertical-align: middle;\n",
       "    }\n",
       "\n",
       "    .dataframe tbody tr th {\n",
       "        vertical-align: top;\n",
       "    }\n",
       "\n",
       "    .dataframe thead th {\n",
       "        text-align: right;\n",
       "    }\n",
       "</style>\n",
       "<table border=\"1\" class=\"dataframe\">\n",
       "  <thead>\n",
       "    <tr style=\"text-align: right;\">\n",
       "      <th></th>\n",
       "      <th>id</th>\n",
       "      <th>code</th>\n",
       "      <th>ticker</th>\n",
       "      <th>dtyyyymmdd</th>\n",
       "      <th>first</th>\n",
       "      <th>high</th>\n",
       "      <th>low</th>\n",
       "      <th>close</th>\n",
       "      <th>value</th>\n",
       "      <th>vol</th>\n",
       "      <th>openint</th>\n",
       "      <th>per</th>\n",
       "      <th>open</th>\n",
       "      <th>last</th>\n",
       "      <th>date</th>\n",
       "    </tr>\n",
       "  </thead>\n",
       "  <tbody>\n",
       "    <tr>\n",
       "      <th>0</th>\n",
       "      <td>5360</td>\n",
       "      <td>35700344742885862</td>\n",
       "      <td>Gol-E-Gohar.</td>\n",
       "      <td>20040829</td>\n",
       "      <td>12000.0</td>\n",
       "      <td>12021.0</td>\n",
       "      <td>12000.0</td>\n",
       "      <td>12000.0</td>\n",
       "      <td>18841605000</td>\n",
       "      <td>1570000</td>\n",
       "      <td>2708</td>\n",
       "      <td>D</td>\n",
       "      <td>12000.0</td>\n",
       "      <td>12000.0</td>\n",
       "      <td>2004-08-29</td>\n",
       "    </tr>\n",
       "    <tr>\n",
       "      <th>1</th>\n",
       "      <td>5359</td>\n",
       "      <td>35700344742885862</td>\n",
       "      <td>Gol-E-Gohar.</td>\n",
       "      <td>20040904</td>\n",
       "      <td>12600.0</td>\n",
       "      <td>12600.0</td>\n",
       "      <td>12600.0</td>\n",
       "      <td>12600.0</td>\n",
       "      <td>12600000000</td>\n",
       "      <td>1000000</td>\n",
       "      <td>849</td>\n",
       "      <td>D</td>\n",
       "      <td>12000.0</td>\n",
       "      <td>12600.0</td>\n",
       "      <td>2004-09-04</td>\n",
       "    </tr>\n",
       "  </tbody>\n",
       "</table>\n",
       "</div>"
      ],
      "text/plain": [
       "     id               code        ticker  dtyyyymmdd    first     high  \\\n",
       "0  5360  35700344742885862  Gol-E-Gohar.    20040829  12000.0  12021.0   \n",
       "1  5359  35700344742885862  Gol-E-Gohar.    20040904  12600.0  12600.0   \n",
       "\n",
       "       low    close        value      vol  openint per     open     last  \\\n",
       "0  12000.0  12000.0  18841605000  1570000     2708   D  12000.0  12000.0   \n",
       "1  12600.0  12600.0  12600000000  1000000      849   D  12000.0  12600.0   \n",
       "\n",
       "        date  \n",
       "0 2004-08-29  \n",
       "1 2004-09-04  "
      ]
     },
     "execution_count": 38,
     "metadata": {},
     "output_type": "execute_result"
    }
   ],
   "source": [
    "stock_by_symbol.df.head(2)"
   ]
  }
 ],
 "metadata": {
  "kernelspec": {
   "display_name": "Thesis",
   "language": "python",
   "name": "other-env"
  },
  "language_info": {
   "codemirror_mode": {
    "name": "ipython",
    "version": 3
   },
   "file_extension": ".py",
   "mimetype": "text/x-python",
   "name": "python",
   "nbconvert_exporter": "python",
   "pygments_lexer": "ipython3",
   "version": "3.7.3"
  }
 },
 "nbformat": 4,
 "nbformat_minor": 2
}
